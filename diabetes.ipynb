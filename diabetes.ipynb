{
 "cells": [
  {
   "cell_type": "code",
   "execution_count": 1,
   "id": "32f8886c-db7b-4a9a-ba62-91da52d262f0",
   "metadata": {},
   "outputs": [],
   "source": [
    "import pandas as pd \n",
    "import io\n",
    "import numpy as np \n",
    "from sklearn.svm import SVR,SVC\n",
    "from sklearn.metrics import confusion_matrix\n",
    "from sklearn.ensemble import RandomForestClassifier\n",
    "from sklearn.datasets import make_classification\n",
    "from sklearn.model_selection import train_test_split,GridSearchCV \n",
    "from sklearn.impute import SimpleImputer\n",
    "from sklearn.preprocessing import LabelEncoder , OneHotEncoder , StandardScaler,MinMaxScaler\n",
    "import matplotlib.pyplot as plt\n",
    "import seaborn as sns\n",
    "from sklearn.compose import ColumnTransformer\n",
    "from sklearn.tree import DecisionTreeClassifier\n",
    "from sklearn.metrics import mean_squared_error\n",
    "from sklearn.metrics import accuracy_score\n",
    "from sklearn.naive_bayes import GaussianNB\n",
    "from sklearn.neighbors import KNeighborsClassifier\n",
    "lb=LabelEncoder()\n",
    "sc=StandardScaler()\n",
    "mm=MinMaxScaler()"
   ]
  },
  {
   "cell_type": "code",
   "execution_count": 2,
   "id": "defd2302-5772-4370-b9ab-770a893936ca",
   "metadata": {},
   "outputs": [
    {
     "data": {
      "text/plain": [
       "array([0, 0, 0, ..., 0, 0, 0], dtype=int64)"
      ]
     },
     "execution_count": 2,
     "metadata": {},
     "output_type": "execute_result"
    }
   ],
   "source": [
    "my_df=pd.read_csv('diabetes_prediction_dataset.csv')\n",
    "\n",
    "X=my_df.iloc[:,0:8].values\n",
    "\n",
    "X \n",
    "\n",
    "Y=my_df.iloc[:,-1].values\n",
    "\n",
    "Y "
   ]
  },
  {
   "cell_type": "code",
   "execution_count": 3,
   "id": "b4088e22-b686-41e9-8b0e-c67e0fd9204a",
   "metadata": {},
   "outputs": [],
   "source": [
    "# labelencoding \n",
    "\n",
    "X[:,0]=lb.fit_transform(X[:,0])\n"
   ]
  },
  {
   "cell_type": "code",
   "execution_count": 4,
   "id": "f5a0240f-20c5-4c1b-9e0d-e7ce422b6293",
   "metadata": {},
   "outputs": [],
   "source": [
    "# Normaliztion \n",
    "\n",
    "X[:,[1,5,6,7]]=sc.fit_transform(X[:,[1,5,6,7]])\n"
   ]
  },
  {
   "cell_type": "code",
   "execution_count": 5,
   "id": "837c3e45-2447-48e0-a849-ea56ad203aed",
   "metadata": {},
   "outputs": [
    {
     "data": {
      "text/plain": [
       "array([[0.0, 0.0, 0.0, ..., -0.3210557916611154, 1.0017057235688864,\n",
       "        0.04770421587098508],\n",
       "       [1.0, 0.0, 0.0, ..., -0.00011558367772035405, 1.0017057235688864,\n",
       "        -1.426209989644696],\n",
       "       [0.0, 0.0, 0.0, ..., -0.00011558367772035405, 0.16110802156803655,\n",
       "        0.4898784775256894],\n",
       "       ...,\n",
       "       [0.0, 0.0, 0.0, ..., 0.07672925485351482, 0.16110802156803655,\n",
       "        0.4161827672499054],\n",
       "       [0.0, 0.0, 0.0, ..., 1.2203612635830785, -1.4266876377669033,\n",
       "        -0.9349052544728024],\n",
       "       [0.0, 1.0, 0.0, ..., -0.7369219766536841, 1.0017057235688864,\n",
       "        -1.1805576220587493]], dtype=object)"
      ]
     },
     "execution_count": 5,
     "metadata": {},
     "output_type": "execute_result"
    }
   ],
   "source": [
    "onehotencoder=ColumnTransformer([(\"encoder\",OneHotEncoder(),[4])],remainder=\"passthrough\")\n",
    "\n",
    "\n",
    "X=np.array(onehotencoder.fit_transform(X))\n",
    "X\n"
   ]
  },
  {
   "cell_type": "code",
   "execution_count": 6,
   "id": "5714ded8-18f2-4ac1-bcdb-0998503a18d7",
   "metadata": {},
   "outputs": [],
   "source": [
    "# split dataset\n",
    "\n",
    "x_train , x_test , y_train , y_test = train_test_split(X,Y,train_size=0.80 , random_state=42)"
   ]
  },
  {
   "cell_type": "code",
   "execution_count": 47,
   "id": "6ead25c6-09e3-4566-9f0c-25abdbcaab82",
   "metadata": {},
   "outputs": [],
   "source": [
    "svcmodel=SVC(kernel='rbf', C=1, random_state=42)"
   ]
  },
  {
   "cell_type": "code",
   "execution_count": 48,
   "id": "774e3d94-8ae6-4c44-a28e-3610b1a2f61e",
   "metadata": {},
   "outputs": [],
   "source": [
    "svcmodel=svcmodel.fit(x_train,y_train)"
   ]
  },
  {
   "cell_type": "code",
   "execution_count": 49,
   "id": "e33266ad-f3c3-45b3-ad35-8dcff0c604a9",
   "metadata": {},
   "outputs": [
    {
     "name": "stdout",
     "output_type": "stream",
     "text": [
      "SVRModel Train Score is :  0.966625\n",
      "SVRModel Test Score is :  0.965\n"
     ]
    }
   ],
   "source": [
    "print('SVRModel Train Score is : ' , svcmodel.score(x_train, y_train))\n",
    "print('SVRModel Test Score is : ' , svcmodel.score(x_test, y_test))"
   ]
  },
  {
   "cell_type": "code",
   "execution_count": 50,
   "id": "f37c79c7-a7c2-427d-afe5-88b00906ff62",
   "metadata": {},
   "outputs": [
    {
     "data": {
      "text/plain": [
       "array([0, 0, 0, ..., 0, 0, 0], dtype=int64)"
      ]
     },
     "execution_count": 50,
     "metadata": {},
     "output_type": "execute_result"
    }
   ],
   "source": [
    "y_predict=svcmodel.predict(x_test)\n",
    "y_predict"
   ]
  },
  {
   "cell_type": "code",
   "execution_count": 51,
   "id": "24e061dc-6420-4466-89f2-02d41733ac4f",
   "metadata": {},
   "outputs": [
    {
     "name": "stdout",
     "output_type": "stream",
     "text": [
      "Confusion Matrix is : \n",
      " [[18283     9]\n",
      " [  691  1017]]\n"
     ]
    },
    {
     "data": {
      "image/png": "[encoded data removed]",
      "text/plain": [
       "<Figure size 640x480 with 2 Axes>"
      ]
     },
     "metadata": {},
     "output_type": "display_data"
    }
   ],
   "source": [
    "#Calculating Confusion Matrix\n",
    "CM = confusion_matrix(y_test, y_predict)\n",
    "print('Confusion Matrix is : \\n', CM)\n",
    "\n",
    "# drawing confusion matrix\n",
    "sns.heatmap(CM, annot=True,fmt='3g')\n",
    "# sns.heatmap(CM, center = True)\n",
    "plt.show()"
   ]
  },
  {
   "cell_type": "code",
   "execution_count": 52,
   "id": "d590de2b-92d8-4f2c-b3f9-05f9908e1c9f",
   "metadata": {},
   "outputs": [
    {
     "name": "stdout",
     "output_type": "stream",
     "text": [
      "Accuracy: 0.97215\n"
     ]
    }
   ],
   "source": [
    "rfc = RandomForestClassifier(max_depth=5,n_estimators=100,max_features=10, random_state=42)\n",
    "\n",
    "# fit model to training data\n",
    "rfc.fit(x_train, y_train)\n",
    "score = rfc.score(x_test, y_test)\n",
    "print(\"Accuracy:\", score)\n",
    "y_pred=rfc.predict(x_test)\n",
    "# evaluate model performance on testing data\n"
   ]
  },
  {
   "cell_type": "code",
   "execution_count": 53,
   "id": "2e82ba90-0487-4e57-a5b8-eedc0f2cfe78",
   "metadata": {},
   "outputs": [
    {
     "name": "stdout",
     "output_type": "stream",
     "text": [
      "Confusion Matrix is : \n",
      " [[18292     0]\n",
      " [  557  1151]]\n"
     ]
    },
    {
     "data": {
      "image/png": "[encoded data removed]",
      "text/plain": [
       "<Figure size 640x480 with 2 Axes>"
      ]
     },
     "metadata": {},
     "output_type": "display_data"
    }
   ],
   "source": [
    "CM = confusion_matrix(y_test, y_pred)\n",
    "print('Confusion Matrix is : \\n', CM)\n",
    "\n",
    "# drawing confusion matrix\n",
    "sns.heatmap(CM, annot=True,fmt='3g')\n",
    "# sns.heatmap(CM, center = True)\n",
    "plt.show()"
   ]
  },
  {
   "cell_type": "code",
   "execution_count": 54,
   "id": "3c48a73e-b531-4fc0-a190-11ff2132d8e1",
   "metadata": {},
   "outputs": [
    {
     "data": {
      "text/plain": [
       "DecisionTreeClassifier(max_leaf_nodes=10, random_state=42)"
      ]
     },
     "execution_count": 54,
     "metadata": {},
     "output_type": "execute_result"
    }
   ],
   "source": [
    "DTC = DecisionTreeClassifier(max_leaf_nodes = 10, random_state = 42)\n",
    "DTC.fit(x_train, y_train)"
   ]
  },
  {
   "cell_type": "code",
   "execution_count": 55,
   "id": "067283ea-b0e1-44f3-b03d-842d6013bd9c",
   "metadata": {},
   "outputs": [],
   "source": [
    "predictions = DTC.predict(x_test)\n",
    "# type(predictions)"
   ]
  },
  {
   "cell_type": "code",
   "execution_count": 56,
   "id": "02631308-30e1-4b48-957d-2f98bcbabbc3",
   "metadata": {},
   "outputs": [
    {
     "data": {
      "text/plain": [
       "0.97215"
      ]
     },
     "execution_count": 56,
     "metadata": {},
     "output_type": "execute_result"
    }
   ],
   "source": [
    "accuracy_score(y_test, y_pred = predictions)"
   ]
  },
  {
   "cell_type": "code",
   "execution_count": 57,
   "id": "31971b7b-e218-4ef0-abcb-a1aed62ea1b8",
   "metadata": {},
   "outputs": [
    {
     "data": {
      "text/plain": [
       "0.02785"
      ]
     },
     "execution_count": 57,
     "metadata": {},
     "output_type": "execute_result"
    }
   ],
   "source": [
    "mean_squared_error(y_test, y_pred = predictions)"
   ]
  },
  {
   "cell_type": "code",
   "execution_count": 58,
   "id": "f30b1cd3-7fda-4c27-87ac-c85000543a9b",
   "metadata": {},
   "outputs": [],
   "source": [
    "# Create Decision Tree classifer object\n",
    "clf = DecisionTreeClassifier()\n",
    "\n",
    "# Train Decision Tree Classifer\n",
    "clf = clf.fit(x_train,y_train)\n",
    "\n",
    "#Predict the response for test dataset\n",
    "y_pred = clf.predict(x_test)"
   ]
  },
  {
   "cell_type": "code",
   "execution_count": 59,
   "id": "9821fc39-0185-41d3-bf4f-1da13f8622e4",
   "metadata": {},
   "outputs": [
    {
     "name": "stdout",
     "output_type": "stream",
     "text": [
      "Confusion Matrix is : \n",
      " [[18292     0]\n",
      " [  557  1151]]\n"
     ]
    },
    {
     "data": {
      "image/png": "[encoded data removed]",
      "text/plain": [
       "<Figure size 640x480 with 2 Axes>"
      ]
     },
     "metadata": {},
     "output_type": "display_data"
    }
   ],
   "source": [
    "CM = confusion_matrix(y_test, predictions)\n",
    "print('Confusion Matrix is : \\n', CM)\n",
    "\n",
    "# drawing confusion matrix\n",
    "sns.heatmap(CM, annot=True,fmt='3g')\n",
    "# sns.heatmap(CM, center = True)\n",
    "plt.show()"
   ]
  },
  {
   "cell_type": "code",
   "execution_count": 60,
   "id": "46938df3-699e-415f-96e8-913d16f43cf8",
   "metadata": {},
   "outputs": [
    {
     "name": "stdout",
     "output_type": "stream",
     "text": [
      "Accuracy: 0.95345\n"
     ]
    }
   ],
   "source": [
    "clf = GaussianNB()\n",
    "\n",
    "# Fit the classifier to the training data\n",
    "clf.fit(x_train, y_train)\n",
    "accuracy = accuracy_score(y_test,y_pred)\n",
    "print(\"Accuracy:\", accuracy)\n",
    "# Make predictions on the test data\n",
    "y_pred = clf.predict(x_test)\n",
    "\n",
    "# Evaluate the accuracy of the model\n"
   ]
  },
  {
   "cell_type": "code",
   "execution_count": 61,
   "id": "f7995082-28be-447f-b277-56559c77de3c",
   "metadata": {},
   "outputs": [
    {
     "name": "stdout",
     "output_type": "stream",
     "text": [
      "Confusion Matrix is : \n",
      " [[18292     0]\n",
      " [  557  1151]]\n"
     ]
    },
    {
     "data": {
      "image/png": "[encoded data removed]",
      "text/plain": [
       "<Figure size 640x480 with 2 Axes>"
      ]
     },
     "metadata": {},
     "output_type": "display_data"
    }
   ],
   "source": [
    "CM = confusion_matrix(y_test, predictions)\n",
    "print('Confusion Matrix is : \\n', CM)\n",
    "\n",
    "# drawing confusion matrix\n",
    "sns.heatmap(CM, annot=True,fmt='3g')\n",
    "# sns.heatmap(CM, center = True)\n",
    "plt.show()"
   ]
  },
  {
   "cell_type": "code",
   "execution_count": 63,
   "id": "7c46da90-e5a6-4e66-9835-822c41999ad9",
   "metadata": {},
   "outputs": [
    {
     "name": "stdout",
     "output_type": "stream",
     "text": [
      "Accuracy: 0.95855\n"
     ]
    },
    {
     "name": "stderr",
     "output_type": "stream",
     "text": [
      "E:\\anaconda\\lib\\site-packages\\sklearn\\neighbors\\_classification.py:228: FutureWarning: Unlike other reduction functions (e.g. `skew`, `kurtosis`), the default behavior of `mode` typically preserves the axis it acts along. In SciPy 1.11.0, this behavior will change: the default value of `keepdims` will become False, the `axis` over which the statistic is taken will be eliminated, and the value None will no longer be accepted. Set `keepdims` to True or False to avoid this warning.\n",
      "  mode, _ = stats.mode(_y[neigh_ind, k], axis=1)\n"
     ]
    }
   ],
   "source": [
    "classifier = KNeighborsClassifier(n_neighbors = 5 , metric = 'minkowski', p = 2 )\n",
    "classifier.fit(x_train, y_train)\n",
    "accuracy = accuracy_score(y_test,y_pred)\n",
    "print(\"Accuracy:\", accuracy)\n",
    "# Predicting the Test set results\n",
    "y_pred = classifier.predict(x_test)"
   ]
  },
  {
   "cell_type": "code",
   "execution_count": 64,
   "id": "898b9424-89ee-47e6-9f6b-470e6fabb82d",
   "metadata": {},
   "outputs": [
    {
     "name": "stdout",
     "output_type": "stream",
     "text": [
      "Confusion Matrix is : \n",
      " [[18173   119]\n",
      " [  663  1045]]\n"
     ]
    },
    {
     "data": {
      "image/png": "[encoded data removed]",
      "text/plain": [
       "<Figure size 640x480 with 2 Axes>"
      ]
     },
     "metadata": {},
     "output_type": "display_data"
    }
   ],
   "source": [
    "CM = confusion_matrix(y_test, y_pred)\n",
    "print('Confusion Matrix is : \\n', CM)\n",
    "\n",
    "# drawing confusion matrix\n",
    "sns.heatmap(CM, annot=True,fmt='3g')\n",
    "# sns.heatmap(CM, center = True)\n",
    "plt.show()"
   ]
  },
  {
   "cell_type": "code",
   "execution_count": null,
   "id": "d6e70ab5-85a1-442d-981a-8e83627bdde5",
   "metadata": {},
   "outputs": [],
   "source": [
    "param_grid = {\n",
    "    'penalty': ['l1', 'l2'],\n",
    "    'C': [0.001, 0.01, 0.1, 1, 10, 100]\n",
    "}\n",
    "\n",
    "\n",
    "\n",
    "#--------------------------------------------------------------------\n",
    "\n",
    "# Logistic Regression \n",
    "\n",
    "from sklearn.linear_model import LogisticRegression\n",
    "\n",
    "classifier=LogisticRegression(random_state=42)\n",
    "grid_search = GridSearchCV(classifier, param_grid, cv=5)\n",
    "\n",
    "# Fit the grid search object to the training data\n",
    "grid_search.fit(x_train, y_train)\n",
    "\n",
    "# Get the best hyperparameters and score\n",
    "best_params = grid_search.best_params_\n",
    "best_score = grid_search.best_score_\n",
    "\n",
    "# Print the best hyperparameters and score\n",
    "print(\"Best hyperparameters: \", best_params)\n",
    "print(\"Best score: \", best_score)\n",
    "\n",
    "y_pred=grid_search.predict(x_test)\n",
    "\n",
    "\n",
    "\n",
    "# classifier.fit(x_train, y_train)\n",
    "\n",
    "# y_pred=classifier.predict(x_test)\n",
    "\n",
    "acc=grid_search.score(x_test, y_test)\n",
    "\n",
    "print(f\"the accuracy of the model is : {acc}\")\n",
    "\n",
    "print(\"-\"*120)\n",
    "\n",
    "from sklearn.metrics import confusion_matrix\n",
    "\n",
    "cm=confusion_matrix(y_test,y_pred)\n",
    "print(cm)\n",
    "# drawing confusion matrix\n",
    "sns.heatmap(cm, annot=True,fmt='3g')\n",
    "# sns.heatmap(CM, center = True)\n",
    "plt.show()"
   ]
  },
  {
   "cell_type": "code",
   "execution_count": null,
   "id": "c339aff9-264f-4d62-b4b1-574614131dfc",
   "metadata": {},
   "outputs": [],
   "source": []
  }
 ],
 "metadata": {
  "kernelspec": {
   "display_name": "Python 3 (ipykernel)",
   "language": "python",
   "name": "python3"
  },
  "language_info": {
   "codemirror_mode": {
    "name": "ipython",
    "version": 3
   },
   "file_extension": ".py",
   "mimetype": "text/x-python",
   "name": "python",
   "nbconvert_exporter": "python",
   "pygments_lexer": "ipython3",
   "version": "3.9.13"
  }
 },
 "nbformat": 4,
 "nbformat_minor": 5
}
